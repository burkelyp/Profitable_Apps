{
 "cells": [
  {
   "cell_type": "markdown",
   "metadata": {},
   "source": [
    "# Analyzing Mobile App Data"
   ]
  },
  {
   "cell_type": "markdown",
   "metadata": {},
   "source": [
    "#### For this project, I am working as a data analyst for a company that builds free Android and iOS mobile apps. Profit is entirely based on in-app ads which means we rely on high user count"
   ]
  },
  {
   "cell_type": "markdown",
   "metadata": {},
   "source": [
    "#### The goal of this project is to help app developers understand what types of apps are more likely to attract more users"
   ]
  },
  {
   "cell_type": "markdown",
   "metadata": {},
   "source": [
    "# Import data"
   ]
  },
  {
   "cell_type": "code",
   "execution_count": 1,
   "metadata": {},
   "outputs": [],
   "source": [
    "apple_file = open('AppleStore.csv', encoding=\"utf8\")\n",
    "google_file = open('googleplaystore.csv', encoding=\"utf8\")\n",
    "from csv import reader\n",
    "raw_apple_data = list(reader(apple_file))\n",
    "raw_google_data = list(reader(google_file))\n",
    "ios_header = raw_apple_data[0]\n",
    "ios = raw_apple_data[1:]\n",
    "android_header = raw_google_data[0]\n",
    "android = raw_google_data[1:]\n"
   ]
  },
  {
   "cell_type": "code",
   "execution_count": 2,
   "metadata": {},
   "outputs": [],
   "source": [
    "\"\"\"build function to display specified rows in dataset\"\"\"\n",
    "\n",
    "def explore_data(dataset, start, end, rows_and_columns=False):\n",
    "    dataset_slice = dataset[start:end]    \n",
    "    for row in dataset_slice:\n",
    "        print(row)\n",
    "        print('\\n') # adds a new (empty) line after each row\n",
    "\n",
    "    if rows_and_columns:\n",
    "        print('Number of rows:', len(dataset))\n",
    "        print('Number of columns:', len(dataset[0]))\n",
    "        "
   ]
  },
  {
   "cell_type": "code",
   "execution_count": 3,
   "metadata": {
    "scrolled": true
   },
   "outputs": [
    {
     "name": "stdout",
     "output_type": "stream",
     "text": [
      "['id', 'track_name', 'size_bytes', 'currency', 'price', 'rating_count_tot', 'rating_count_ver', 'user_rating', 'user_rating_ver', 'ver', 'cont_rating', 'prime_genre', 'sup_devices.num', 'ipadSc_urls.num', 'lang.num', 'vpp_lic']\n",
      "\n",
      "\n"
     ]
    }
   ],
   "source": [
    "\"\"\"\n",
    "print header of apple data\n",
    "a dataset containing about 7,000 apps from 2017\n",
    "\"\"\"\n",
    "\n",
    "explore_data(raw_apple_data, 0, 1)\n"
   ]
  },
  {
   "cell_type": "code",
   "execution_count": 4,
   "metadata": {
    "scrolled": true
   },
   "outputs": [
    {
     "name": "stdout",
     "output_type": "stream",
     "text": [
      "['284882215', 'Facebook', '389879808', 'USD', '0.0', '2974676', '212', '3.5', '3.5', '95.0', '4+', 'Social Networking', '37', '1', '29', '1']\n",
      "\n",
      "\n",
      "['389801252', 'Instagram', '113954816', 'USD', '0.0', '2161558', '1289', '4.5', '4.0', '10.23', '12+', 'Photo & Video', '37', '0', '29', '1']\n",
      "\n",
      "\n",
      "['529479190', 'Clash of Clans', '116476928', 'USD', '0.0', '2130805', '579', '4.5', '4.5', '9.24.12', '9+', 'Games', '38', '5', '18', '1']\n",
      "\n",
      "\n"
     ]
    }
   ],
   "source": [
    "explore_data(raw_apple_data, 1, 4)\n"
   ]
  },
  {
   "cell_type": "code",
   "execution_count": 5,
   "metadata": {},
   "outputs": [
    {
     "name": "stdout",
     "output_type": "stream",
     "text": [
      "['App', 'Category', 'Rating', 'Reviews', 'Size', 'Installs', 'Type', 'Price', 'Content Rating', 'Genres', 'Last Updated', 'Current Ver', 'Android Ver']\n",
      "\n",
      "\n"
     ]
    }
   ],
   "source": [
    "\"\"\"\n",
    "print header of google data\n",
    "a dataset containing about 10,000 apps from 2018\n",
    "\"\"\"\n",
    "\n",
    "explore_data(raw_google_data, 0, 1)\n"
   ]
  },
  {
   "cell_type": "code",
   "execution_count": 6,
   "metadata": {},
   "outputs": [
    {
     "name": "stdout",
     "output_type": "stream",
     "text": [
      "['Photo Editor & Candy Camera & Grid & ScrapBook', 'ART_AND_DESIGN', '4.1', '159', '19M', '10,000+', 'Free', '0', 'Everyone', 'Art & Design', 'January 7, 2018', '1.0.0', '4.0.3 and up']\n",
      "\n",
      "\n",
      "['Coloring book moana', 'ART_AND_DESIGN', '3.9', '967', '14M', '500,000+', 'Free', '0', 'Everyone', 'Art & Design;Pretend Play', 'January 15, 2018', '2.0.0', '4.0.3 and up']\n",
      "\n",
      "\n",
      "['U Launcher Lite – FREE Live Cool Themes, Hide Apps', 'ART_AND_DESIGN', '4.7', '87510', '8.7M', '5,000,000+', 'Free', '0', 'Everyone', 'Art & Design', 'August 1, 2018', '1.2.4', '4.0.3 and up']\n",
      "\n",
      "\n"
     ]
    }
   ],
   "source": [
    "explore_data(raw_google_data, 1, 4)\n"
   ]
  },
  {
   "cell_type": "markdown",
   "metadata": {},
   "source": [
    "# Clean data\n"
   ]
  },
  {
   "cell_type": "markdown",
   "metadata": {},
   "source": [
    "The readme file attached to the datafiles indicates that row 10472 has an error in it\n"
   ]
  },
  {
   "cell_type": "code",
   "execution_count": 7,
   "metadata": {},
   "outputs": [
    {
     "name": "stdout",
     "output_type": "stream",
     "text": [
      "['App', 'Category', 'Rating', 'Reviews', 'Size', 'Installs', 'Type', 'Price', 'Content Rating', 'Genres', 'Last Updated', 'Current Ver', 'Android Ver']\n",
      "\n",
      "\n",
      "['Life Made WI-Fi Touchscreen Photo Frame', '1.9', '19', '3.0M', '1,000+', 'Free', '0', 'Everyone', '', 'February 11, 2018', '1.0.19', '4.0 and up']\n"
     ]
    }
   ],
   "source": [
    "print(android_header)\n",
    "print('\\n')\n",
    "print(android[10472])\n"
   ]
  },
  {
   "cell_type": "markdown",
   "metadata": {},
   "source": [
    "The category is listed as 1.9, and the rating is listed as 19... on a scale of 0-5. Something has gone wrong. Let's just remove it"
   ]
  },
  {
   "cell_type": "code",
   "execution_count": 8,
   "metadata": {},
   "outputs": [
    {
     "name": "stdout",
     "output_type": "stream",
     "text": [
      "['osmino Wi-Fi: free WiFi', 'TOOLS', '4.2', '134203', '4.1M', '10,000,000+', 'Free', '0', 'Everyone', 'Tools', 'August 7, 2018', '6.06.14', '4.4 and up']\n"
     ]
    }
   ],
   "source": [
    "del(android[10472])\n",
    "print(android[10472])\n"
   ]
  },
  {
   "cell_type": "markdown",
   "metadata": {},
   "source": [
    "# Remove duplicate apps"
   ]
  },
  {
   "cell_type": "markdown",
   "metadata": {},
   "source": [
    "#### Google/Android"
   ]
  },
  {
   "cell_type": "code",
   "execution_count": 9,
   "metadata": {},
   "outputs": [
    {
     "name": "stdout",
     "output_type": "stream",
     "text": [
      "length of ios df: 10840\n",
      "length of unique_apps_android: 9659\n"
     ]
    }
   ],
   "source": [
    "unique_apps_android = []\n",
    "for row in android:\n",
    "    name = row[0]\n",
    "    if name not in unique_apps_android:\n",
    "        unique_apps_android.append(name)\n",
    "print('length of ios df:', len(android))\n",
    "print('length of unique_apps_android:', len(unique_apps_android))\n",
    "      "
   ]
  },
  {
   "cell_type": "code",
   "execution_count": 10,
   "metadata": {},
   "outputs": [
    {
     "name": "stdout",
     "output_type": "stream",
     "text": [
      "['Instagram', 'SOCIAL', '4.5', '66577313', 'Varies with device', '1,000,000,000+', 'Free', '0', 'Teen', 'Social', 'July 31, 2018', 'Varies with device', 'Varies with device']\n",
      "\n",
      "\n",
      "['Instagram', 'SOCIAL', '4.5', '66577446', 'Varies with device', '1,000,000,000+', 'Free', '0', 'Teen', 'Social', 'July 31, 2018', 'Varies with device', 'Varies with device']\n",
      "\n",
      "\n",
      "['Instagram', 'SOCIAL', '4.5', '66577313', 'Varies with device', '1,000,000,000+', 'Free', '0', 'Teen', 'Social', 'July 31, 2018', 'Varies with device', 'Varies with device']\n",
      "\n",
      "\n",
      "['Instagram', 'SOCIAL', '4.5', '66509917', 'Varies with device', '1,000,000,000+', 'Free', '0', 'Teen', 'Social', 'July 31, 2018', 'Varies with device', 'Varies with device']\n",
      "\n",
      "\n"
     ]
    }
   ],
   "source": [
    "for row in android:\n",
    "    if row[0] == 'Instagram':\n",
    "        print(row)\n",
    "        print('\\n')\n",
    "        "
   ]
  },
  {
   "cell_type": "markdown",
   "metadata": {},
   "source": [
    "Some apps have multiple entries. Here with Instagram we see 4 different entries that only vary in the number of reviews. We intend to only keep the row with the most reviews since that indicates it is probably the most recent entry. This is the method we will use for all duplicates"
   ]
  },
  {
   "cell_type": "code",
   "execution_count": 11,
   "metadata": {},
   "outputs": [
    {
     "name": "stdout",
     "output_type": "stream",
     "text": [
      "max reviews of Instagram: 66577446\n",
      "length of max_reviews: 9659\n"
     ]
    }
   ],
   "source": [
    "\"\"\"\n",
    "Creating a dictionary that has \n",
    "unique app names as the key and\n",
    "the highest review count as the value\n",
    "\"\"\"\n",
    "\n",
    "max_reviews = {}\n",
    "for row in android:\n",
    "    app = row[0]\n",
    "    reviews = int(row[3])\n",
    "    if app not in max_reviews:\n",
    "        max_reviews[app] = reviews\n",
    "    elif (app in max_reviews) & (reviews > max_reviews[app]):\n",
    "        max_reviews[app] = reviews\n",
    "print('max reviews of Instagram:', max_reviews['Instagram'])\n",
    "print('length of max_reviews:', len(max_reviews))\n"
   ]
  },
  {
   "cell_type": "code",
   "execution_count": 12,
   "metadata": {},
   "outputs": [
    {
     "name": "stdout",
     "output_type": "stream",
     "text": [
      "['Photo Editor & Candy Camera & Grid & ScrapBook', 'ART_AND_DESIGN', '4.1', '159', '19M', '10,000+', 'Free', '0', 'Everyone', 'Art & Design', 'January 7, 2018', '1.0.0', '4.0.3 and up']\n",
      "\n",
      "\n",
      "['U Launcher Lite – FREE Live Cool Themes, Hide Apps', 'ART_AND_DESIGN', '4.7', '87510', '8.7M', '5,000,000+', 'Free', '0', 'Everyone', 'Art & Design', 'August 1, 2018', '1.2.4', '4.0.3 and up']\n",
      "\n",
      "\n",
      "Number of rows: 9659\n",
      "Number of columns: 13\n",
      "length of already_added: 9659\n"
     ]
    }
   ],
   "source": [
    "android_clean = []\n",
    "already_added = []\n",
    "for row in android:\n",
    "    name = row[0]\n",
    "    reviews = int(row[3])\n",
    "    if (reviews == max_reviews[name]) & (name not in already_added):\n",
    "        android_clean.append(row)\n",
    "        already_added.append(name)\n",
    "        \n",
    "explore_data(android_clean, 0, 2, True)\n",
    "print('length of already_added:', len(already_added))\n"
   ]
  },
  {
   "cell_type": "markdown",
   "metadata": {},
   "source": [
    "#### Apple/ios"
   ]
  },
  {
   "cell_type": "code",
   "execution_count": 13,
   "metadata": {},
   "outputs": [
    {
     "name": "stdout",
     "output_type": "stream",
     "text": [
      "length of ios df: 7197\n",
      "length of unique_apps_ios: 7195\n"
     ]
    }
   ],
   "source": [
    "unique_apps_ios = []\n",
    "for row in ios:\n",
    "    name = row[1]\n",
    "    if name not in unique_apps_ios:\n",
    "        unique_apps_ios.append(name)\n",
    "print('length of ios df:', len(ios))\n",
    "print('length of unique_apps_ios:', len(unique_apps_ios))\n",
    "        "
   ]
  },
  {
   "cell_type": "markdown",
   "metadata": {},
   "source": [
    "The IOS dataset does not contain any duplicates"
   ]
  },
  {
   "cell_type": "markdown",
   "metadata": {},
   "source": [
    "### Remove non-english apps"
   ]
  },
  {
   "cell_type": "code",
   "execution_count": 14,
   "metadata": {},
   "outputs": [
    {
     "name": "stdout",
     "output_type": "stream",
     "text": [
      "True\n",
      "False\n",
      "True\n",
      "True\n"
     ]
    }
   ],
   "source": [
    "\"\"\"\n",
    "Function to determine if app name contains english characters\n",
    "\"\"\"\n",
    "\n",
    "def eng_ltr(string):\n",
    "    counter = 0\n",
    "    for char in string:\n",
    "        if ord(char) > 127:\n",
    "            counter += 1\n",
    "        if counter > 3:         # allowing 3 non-english characters \n",
    "            return False\n",
    "    return True\n",
    "        \n",
    "test_names = [\n",
    "    \n",
    "    'Instagram',\n",
    "    '爱奇艺PPS -《欢乐颂2》电视剧热播',\n",
    "    'Docs To Go™ Free Office Suite',\n",
    "    'Instachat 😜'\n",
    "\n",
    "]\n",
    "for name in test_names:\n",
    "    print(eng_ltr(name))\n",
    "    "
   ]
  },
  {
   "cell_type": "markdown",
   "metadata": {},
   "source": [
    "#### Google/Android"
   ]
  },
  {
   "cell_type": "code",
   "execution_count": 15,
   "metadata": {},
   "outputs": [],
   "source": [
    "android_eng = []\n",
    "for row in android_clean:\n",
    "    if eng_ltr(row[0]):            # row[0] = app_name\n",
    "        android_eng.append(row)\n",
    "    "
   ]
  },
  {
   "cell_type": "code",
   "execution_count": 16,
   "metadata": {},
   "outputs": [
    {
     "name": "stdout",
     "output_type": "stream",
     "text": [
      "['Photo Editor & Candy Camera & Grid & ScrapBook', 'ART_AND_DESIGN', '4.1', '159', '19M', '10,000+', 'Free', '0', 'Everyone', 'Art & Design', 'January 7, 2018', '1.0.0', '4.0.3 and up']\n",
      "\n",
      "\n",
      "['U Launcher Lite – FREE Live Cool Themes, Hide Apps', 'ART_AND_DESIGN', '4.7', '87510', '8.7M', '5,000,000+', 'Free', '0', 'Everyone', 'Art & Design', 'August 1, 2018', '1.2.4', '4.0.3 and up']\n",
      "\n",
      "\n",
      "Number of rows: 9614\n",
      "Number of columns: 13\n"
     ]
    }
   ],
   "source": [
    "explore_data(android_eng, 0, 2, True)\n"
   ]
  },
  {
   "cell_type": "markdown",
   "metadata": {},
   "source": [
    "#### Apple/ios"
   ]
  },
  {
   "cell_type": "code",
   "execution_count": 17,
   "metadata": {},
   "outputs": [],
   "source": [
    "ios_eng = []\n",
    "for row in ios:\n",
    "    if eng_ltr(row[1]):            # row[1] = app_name\n",
    "        ios_eng.append(row)\n",
    "        "
   ]
  },
  {
   "cell_type": "code",
   "execution_count": 18,
   "metadata": {},
   "outputs": [
    {
     "name": "stdout",
     "output_type": "stream",
     "text": [
      "['284882215', 'Facebook', '389879808', 'USD', '0.0', '2974676', '212', '3.5', '3.5', '95.0', '4+', 'Social Networking', '37', '1', '29', '1']\n",
      "\n",
      "\n",
      "['389801252', 'Instagram', '113954816', 'USD', '0.0', '2161558', '1289', '4.5', '4.0', '10.23', '12+', 'Photo & Video', '37', '0', '29', '1']\n",
      "\n",
      "\n",
      "Number of rows: 6183\n",
      "Number of columns: 16\n"
     ]
    }
   ],
   "source": [
    "explore_data(ios_eng, 0, 2, True)\n"
   ]
  },
  {
   "cell_type": "markdown",
   "metadata": {},
   "source": [
    "### Isolating free apps"
   ]
  },
  {
   "cell_type": "markdown",
   "metadata": {},
   "source": [
    "#### Google/Android"
   ]
  },
  {
   "cell_type": "code",
   "execution_count": 19,
   "metadata": {},
   "outputs": [
    {
     "data": {
      "text/plain": [
       "0        8864\n",
       "$0.99     145\n",
       "$2.99     124\n",
       "$1.99      73\n",
       "$4.99      70\n",
       "dtype: int64"
      ]
     },
     "execution_count": 19,
     "metadata": {},
     "output_type": "execute_result"
    }
   ],
   "source": [
    "prices = []\n",
    "for row in android_eng:\n",
    "    prices.append(row[7])            # row[7] = app_price\n",
    "\n",
    "from pandas import value_counts\n",
    "value_counts(prices).head()\n"
   ]
  },
  {
   "cell_type": "code",
   "execution_count": 20,
   "metadata": {},
   "outputs": [],
   "source": [
    "android_data = []\n",
    "for row in android_eng:\n",
    "    if row[7] == '0':\n",
    "        android_data.append(row)\n",
    "        "
   ]
  },
  {
   "cell_type": "code",
   "execution_count": 21,
   "metadata": {},
   "outputs": [
    {
     "name": "stdout",
     "output_type": "stream",
     "text": [
      "['Photo Editor & Candy Camera & Grid & ScrapBook', 'ART_AND_DESIGN', '4.1', '159', '19M', '10,000+', 'Free', '0', 'Everyone', 'Art & Design', 'January 7, 2018', '1.0.0', '4.0.3 and up']\n",
      "\n",
      "\n",
      "['U Launcher Lite – FREE Live Cool Themes, Hide Apps', 'ART_AND_DESIGN', '4.7', '87510', '8.7M', '5,000,000+', 'Free', '0', 'Everyone', 'Art & Design', 'August 1, 2018', '1.2.4', '4.0.3 and up']\n",
      "\n",
      "\n",
      "Number of rows: 8864\n",
      "Number of columns: 13\n"
     ]
    }
   ],
   "source": [
    "explore_data(android_data, 0, 2, True)\n"
   ]
  },
  {
   "cell_type": "markdown",
   "metadata": {},
   "source": [
    "#### Apple/ios"
   ]
  },
  {
   "cell_type": "code",
   "execution_count": 22,
   "metadata": {},
   "outputs": [
    {
     "data": {
      "text/plain": [
       "0.0     3222\n",
       "2.99     669\n",
       "0.99     641\n",
       "1.99     610\n",
       "4.99     375\n",
       "dtype: int64"
      ]
     },
     "execution_count": 22,
     "metadata": {},
     "output_type": "execute_result"
    }
   ],
   "source": [
    "prices = []\n",
    "for row in ios_eng:\n",
    "    prices.append(row[4])            # row[4] = app_price\n",
    "\n",
    "from pandas import value_counts\n",
    "value_counts(prices).head()\n"
   ]
  },
  {
   "cell_type": "code",
   "execution_count": 23,
   "metadata": {},
   "outputs": [],
   "source": [
    "ios_data = []\n",
    "for row in ios_eng:\n",
    "    if row[4] == '0.0':\n",
    "        ios_data.append(row)\n",
    "        "
   ]
  },
  {
   "cell_type": "code",
   "execution_count": 24,
   "metadata": {},
   "outputs": [
    {
     "name": "stdout",
     "output_type": "stream",
     "text": [
      "['284882215', 'Facebook', '389879808', 'USD', '0.0', '2974676', '212', '3.5', '3.5', '95.0', '4+', 'Social Networking', '37', '1', '29', '1']\n",
      "\n",
      "\n",
      "['389801252', 'Instagram', '113954816', 'USD', '0.0', '2161558', '1289', '4.5', '4.0', '10.23', '12+', 'Photo & Video', '37', '0', '29', '1']\n",
      "\n",
      "\n",
      "Number of rows: 3222\n",
      "Number of columns: 16\n"
     ]
    }
   ],
   "source": [
    "explore_data(ios_data, 0, 2, True)\n"
   ]
  },
  {
   "cell_type": "markdown",
   "metadata": {},
   "source": [
    "# Most common apps by genre"
   ]
  },
  {
   "cell_type": "code",
   "execution_count": 25,
   "metadata": {},
   "outputs": [
    {
     "name": "stdout",
     "output_type": "stream",
     "text": [
      "['App', 'Category', 'Rating', 'Reviews', 'Size', 'Installs', 'Type', 'Price', 'Content Rating', 'Genres', 'Last Updated', 'Current Ver', 'Android Ver']\n",
      "['Photo Editor & Candy Camera & Grid & ScrapBook', 'ART_AND_DESIGN', '4.1', '159', '19M', '10,000+', 'Free', '0', 'Everyone', 'Art & Design', 'January 7, 2018', '1.0.0', '4.0.3 and up']\n",
      "\n",
      "\n",
      "['id', 'track_name', 'size_bytes', 'currency', 'price', 'rating_count_tot', 'rating_count_ver', 'user_rating', 'user_rating_ver', 'ver', 'cont_rating', 'prime_genre', 'sup_devices.num', 'ipadSc_urls.num', 'lang.num', 'vpp_lic']\n",
      "['284882215', 'Facebook', '389879808', 'USD', '0.0', '2974676', '212', '3.5', '3.5', '95.0', '4+', 'Social Networking', '37', '1', '29', '1']\n"
     ]
    }
   ],
   "source": [
    "## reprinting header and sample of data\n",
    "\n",
    "print(android_header)\n",
    "print(android_data[0])\n",
    "print('\\n')\n",
    "print(ios_header)\n",
    "print(ios_data[0])\n"
   ]
  },
  {
   "cell_type": "code",
   "execution_count": 26,
   "metadata": {},
   "outputs": [],
   "source": [
    "\"\"\"\n",
    "\n",
    "This function generates a frequency table,\n",
    "given a dataset and an index number for the desired column\n",
    "\n",
    "\"\"\"\n",
    "\n",
    "def freq_table(dataset, index):\n",
    "    ft = {}\n",
    "    for row in dataset:\n",
    "        param = row[index]\n",
    "        if param in ft:\n",
    "            ft[param] += 1\n",
    "        else:\n",
    "            ft[param] = 1\n",
    "    for i in ft:\n",
    "        ft[i] /= (len(dataset)*.01)\n",
    "    return ft\n"
   ]
  },
  {
   "cell_type": "code",
   "execution_count": 27,
   "metadata": {},
   "outputs": [],
   "source": [
    "\"\"\"\n",
    "\n",
    "This function displays the top 10 values of a frequency table,\n",
    "given a dataset and an index number for the desired column\n",
    "it calls the freq_table function written above\n",
    "\n",
    "\"\"\"\n",
    "\n",
    "def display_table(dataset, index):\n",
    "    table = freq_table(dataset, index)\n",
    "    table_display = []\n",
    "    for key in table:\n",
    "        key_val_as_tuple = (table[key], key)\n",
    "        table_display.append(key_val_as_tuple)\n",
    "\n",
    "    table_sorted = sorted(table_display, reverse = True)\n",
    "    for entry in table_sorted[:10]:           # only interested in the top values\n",
    "        print(entry[1], ':', entry[0])\n",
    "        "
   ]
  },
  {
   "cell_type": "markdown",
   "metadata": {},
   "source": [
    "#### Google/Android"
   ]
  },
  {
   "cell_type": "code",
   "execution_count": 28,
   "metadata": {
    "scrolled": true
   },
   "outputs": [
    {
     "name": "stdout",
     "output_type": "stream",
     "text": [
      "Tools : 8.449909747292418\n",
      "Entertainment : 6.069494584837545\n",
      "Education : 5.347472924187725\n",
      "Business : 4.591606498194946\n",
      "Productivity : 3.892148014440433\n",
      "Lifestyle : 3.892148014440433\n",
      "Finance : 3.700361010830325\n",
      "Medical : 3.5311371841155235\n",
      "Sports : 3.463447653429603\n",
      "Personalization : 3.3167870036101084\n"
     ]
    }
   ],
   "source": [
    "display_table(android_data, 9)    # row[9] = genres\n"
   ]
  },
  {
   "cell_type": "markdown",
   "metadata": {},
   "source": [
    "Tools and Entertainment genres are the most common genres here, but only with 8.4% and 6.1%. This doesn't indicate too much"
   ]
  },
  {
   "cell_type": "code",
   "execution_count": 29,
   "metadata": {
    "scrolled": true
   },
   "outputs": [
    {
     "name": "stdout",
     "output_type": "stream",
     "text": [
      "FAMILY : 18.907942238267147\n",
      "GAME : 9.724729241877256\n",
      "TOOLS : 8.461191335740072\n",
      "BUSINESS : 4.591606498194946\n",
      "LIFESTYLE : 3.9034296028880866\n",
      "PRODUCTIVITY : 3.892148014440433\n",
      "FINANCE : 3.700361010830325\n",
      "MEDICAL : 3.5311371841155235\n",
      "SPORTS : 3.395758122743682\n",
      "PERSONALIZATION : 3.3167870036101084\n"
     ]
    }
   ],
   "source": [
    "display_table(android_data, 1)    # row[1] = categories\n"
   ]
  },
  {
   "cell_type": "markdown",
   "metadata": {},
   "source": [
    "FAMILY, GAME, AND TOOLS categories are the most common genres here, and FAMILY stands out with 18.9%. We have also now seen Tools pop up twice"
   ]
  },
  {
   "cell_type": "markdown",
   "metadata": {},
   "source": [
    "#### Apple/ios"
   ]
  },
  {
   "cell_type": "code",
   "execution_count": 30,
   "metadata": {
    "scrolled": true
   },
   "outputs": [
    {
     "name": "stdout",
     "output_type": "stream",
     "text": [
      "Games : 58.16263190564867\n",
      "Entertainment : 7.883302296710118\n",
      "Photo & Video : 4.9658597144630665\n",
      "Education : 3.6623215394165114\n",
      "Social Networking : 3.289882060831782\n",
      "Shopping : 2.60707635009311\n",
      "Utilities : 2.5139664804469275\n",
      "Sports : 2.1415270018621975\n",
      "Music : 2.048417132216015\n",
      "Health & Fitness : 2.017380509000621\n"
     ]
    }
   ],
   "source": [
    "display_table(ios_data, 11)      # row[11] = prime_genre\n"
   ]
  },
  {
   "cell_type": "markdown",
   "metadata": {},
   "source": [
    "In the Apple dataset, Games is by far the most common genre (58.2%), with Entertainment being a distant runner-up with 7.9%. This dataset seems to be dominated by apps designed for fun."
   ]
  },
  {
   "cell_type": "markdown",
   "metadata": {},
   "source": [
    "This Information indicates that the most common genre of app is a game. However, the Google Play store has a balance of practical and fun apps."
   ]
  },
  {
   "cell_type": "markdown",
   "metadata": {},
   "source": [
    "# Most popular apps by genre"
   ]
  },
  {
   "cell_type": "markdown",
   "metadata": {},
   "source": [
    "#### Google/Android"
   ]
  },
  {
   "cell_type": "code",
   "execution_count": 31,
   "metadata": {},
   "outputs": [
    {
     "name": "stdout",
     "output_type": "stream",
     "text": [
      "1,000,000+ : 15.72653429602888\n",
      "100,000+ : 11.552346570397113\n",
      "10,000,000+ : 10.548285198555957\n",
      "10,000+ : 10.1985559566787\n",
      "1,000+ : 8.393501805054152\n",
      "100+ : 6.915613718411552\n",
      "5,000,000+ : 6.825361010830325\n",
      "500,000+ : 5.561823104693141\n",
      "50,000+ : 4.772111913357401\n",
      "5,000+ : 4.512635379061372\n"
     ]
    }
   ],
   "source": [
    "display_table(android_data, 5)     # row[5] = number of app installs"
   ]
  },
  {
   "cell_type": "code",
   "execution_count": 32,
   "metadata": {
    "scrolled": false
   },
   "outputs": [
    {
     "name": "stdout",
     "output_type": "stream",
     "text": [
      "[38456119, 'COMMUNICATION'] \n",
      "\n",
      "[24727872, 'VIDEO_PLAYERS'] \n",
      "\n",
      "[23253652, 'SOCIAL'] \n",
      "\n",
      "[17840110, 'PHOTOGRAPHY'] \n",
      "\n",
      "[16787331, 'PRODUCTIVITY'] \n",
      "\n",
      "[15588016, 'GAME'] \n",
      "\n",
      "[13984078, 'TRAVEL_AND_LOCAL'] \n",
      "\n",
      "[11640706, 'ENTERTAINMENT'] \n",
      "\n",
      "[10801391, 'TOOLS'] \n",
      "\n",
      "[9549178, 'NEWS_AND_MAGAZINES'] \n",
      "\n"
     ]
    }
   ],
   "source": [
    "\"\"\"\n",
    "\n",
    "Here I will be calculating the average number of installs per app in a genre as a measure of popularity.\n",
    "\n",
    "The number of installs row in the android dataset contains commas and plus signs,\n",
    "in order to treat these strings as an integer I first remove these, and consider the\n",
    "remaining integer a close aproximation of the actual value\n",
    "\n",
    "\"\"\"\n",
    "\n",
    "for row in android_data:\n",
    "    row[5] = int(row[5].replace(',','').replace('+', ''))\n",
    "\n",
    "category_ft = freq_table(android_data, 1)\n",
    "\n",
    "category_popular = []\n",
    "for category in category_ft:\n",
    "    total = 0\n",
    "    len_category = 0\n",
    "    for row in android_data:\n",
    "        if category == row[1]:\n",
    "            total += row[5]            # row[5] = number of installs\n",
    "            len_category += 1\n",
    "    avg_install = round(total / len_category)\n",
    "    category_popular.append([avg_install, category])\n",
    "    category_popular = sorted(category_popular, reverse=True)\n",
    "for i in category_popular[:10]:\n",
    "    print(i, '\\n')\n",
    "    "
   ]
  },
  {
   "cell_type": "code",
   "execution_count": 33,
   "metadata": {
    "scrolled": true
   },
   "outputs": [
    {
     "name": "stdout",
     "output_type": "stream",
     "text": [
      "WhatsApp Messenger 1000000000\n",
      "Google Duo - High Quality Video Calls 500000000\n",
      "Messenger – Text and Video Chat for Free 1000000000\n",
      "imo free video calls and chat 500000000\n",
      "Skype - free IM & video calls 1000000000\n",
      "LINE: Free Calls & Messages 500000000\n",
      "Google Chrome: Fast & Secure 1000000000\n",
      "UC Browser - Fast Download Private & Secure 500000000\n",
      "Gmail 1000000000\n",
      "Hangouts 1000000000\n",
      "Viber Messenger 500000000\n"
     ]
    }
   ],
   "source": [
    "for row in android_data:\n",
    "    if (row[1] == 'COMMUNICATION') & (row[5] > 100000000):\n",
    "        print(row[0],row[5])"
   ]
  },
  {
   "cell_type": "code",
   "execution_count": 34,
   "metadata": {},
   "outputs": [
    {
     "name": "stdout",
     "output_type": "stream",
     "text": [
      "YouTube 1000000000\n",
      "Google Play Movies & TV 1000000000\n",
      "MX Player 500000000\n"
     ]
    }
   ],
   "source": [
    "for row in android_data:\n",
    "    if (row[1] == 'VIDEO_PLAYERS') & (row[5] > 100000000):\n",
    "        print(row[0],row[5])"
   ]
  },
  {
   "cell_type": "code",
   "execution_count": 35,
   "metadata": {},
   "outputs": [
    {
     "name": "stdout",
     "output_type": "stream",
     "text": [
      "Facebook 1000000000\n",
      "Facebook Lite 500000000\n",
      "Google+ 1000000000\n",
      "Instagram 1000000000\n",
      "Snapchat 500000000\n"
     ]
    }
   ],
   "source": [
    "for row in android_data:\n",
    "    if (row[1] == 'SOCIAL') & (row[5] > 100000000):\n",
    "        print(row[0],row[5])"
   ]
  },
  {
   "cell_type": "markdown",
   "metadata": {},
   "source": [
    "Communication, Video Players, and Social apps dominate the Google Play store for popularity, however the top apps in these categories and dominated by big names like Facebook, YouTube, Gmail, WhatsApp. It might be a big leap to try and compete with these names. Lets look at the Apple data then try to come to a solution"
   ]
  },
  {
   "cell_type": "markdown",
   "metadata": {},
   "source": [
    "#### Apple/ios"
   ]
  },
  {
   "cell_type": "code",
   "execution_count": 36,
   "metadata": {},
   "outputs": [
    {
     "name": "stdout",
     "output_type": "stream",
     "text": [
      "0 : 4.686530105524519\n",
      "1 : 0.7138423339540658\n",
      "7 : 0.43451272501551835\n",
      "5 : 0.43451272501551835\n",
      "2 : 0.43451272501551835\n",
      "10 : 0.40347610180012417\n",
      "6 : 0.37243947858473\n",
      "14 : 0.37243947858473\n",
      "9 : 0.31036623215394166\n",
      "53 : 0.31036623215394166\n"
     ]
    }
   ],
   "source": [
    "\"\"\"\n",
    "\n",
    "The Apple dataset does not contain a total installs value\n",
    "Therefore, I will be using the total_review_count, row[5]\n",
    "\n",
    "\"\"\"\n",
    "\n",
    "display_table(ios_data, 5)   # row[5] = total number of user ratings\n"
   ]
  },
  {
   "cell_type": "code",
   "execution_count": 37,
   "metadata": {},
   "outputs": [
    {
     "name": "stdout",
     "output_type": "stream",
     "text": [
      "[86090.33, 'Navigation'] \n",
      "\n",
      "[74942.11, 'Reference'] \n",
      "\n",
      "[71548.35, 'Social Networking'] \n",
      "\n",
      "[57326.53, 'Music'] \n",
      "\n",
      "[52279.89, 'Weather'] \n",
      "\n",
      "[39758.5, 'Book'] \n",
      "\n",
      "[33333.92, 'Food & Drink'] \n",
      "\n",
      "[31467.94, 'Finance'] \n",
      "\n",
      "[28441.54, 'Photo & Video'] \n",
      "\n",
      "[28243.8, 'Travel'] \n",
      "\n",
      "[26919.69, 'Shopping'] \n",
      "\n",
      "[23298.02, 'Health & Fitness'] \n",
      "\n",
      "[23008.9, 'Sports'] \n",
      "\n",
      "[22788.67, 'Games'] \n",
      "\n",
      "[21248.02, 'News'] \n",
      "\n",
      "[21028.41, 'Productivity'] \n",
      "\n",
      "[18684.46, 'Utilities'] \n",
      "\n",
      "[16485.76, 'Lifestyle'] \n",
      "\n",
      "[14029.83, 'Entertainment'] \n",
      "\n",
      "[7491.12, 'Business'] \n",
      "\n",
      "[7003.98, 'Education'] \n",
      "\n",
      "[4004.0, 'Catalogs'] \n",
      "\n",
      "[612.0, 'Medical'] \n",
      "\n"
     ]
    }
   ],
   "source": [
    "ios_genre_ft = freq_table(ios_data, 11)  # freq_table for genres\n",
    "\n",
    "genre_popular = []\n",
    "for genre in ios_genre_ft:\n",
    "    total = 0\n",
    "    len_genre = 0\n",
    "    for row in ios_data:\n",
    "        genre_app = row[11]\n",
    "        if genre_app == genre:\n",
    "            total += int(row[5])      # row[5] = total number of user ratings\n",
    "            len_genre += 1\n",
    "    avg_user_ratings = round(total / len_genre, 2)\n",
    "    genre_popular.append([avg_user_ratings, genre])\n",
    "genre_popular = sorted(genre_popular, reverse=True)\n",
    "for i in genre_popular:\n",
    "    print(i,'\\n')\n",
    "\n",
    "\n",
    "    "
   ]
  },
  {
   "cell_type": "markdown",
   "metadata": {},
   "source": []
  },
  {
   "cell_type": "code",
   "execution_count": 38,
   "metadata": {},
   "outputs": [
    {
     "name": "stdout",
     "output_type": "stream",
     "text": [
      "Waze - GPS Navigation, Maps & Real-time Traffic 345046\n",
      "Google Maps - Navigation & Transit 154911\n"
     ]
    }
   ],
   "source": [
    "for row in ios_data:\n",
    "    if (row[11] == 'Navigation') & (int(row[5]) > 100000):\n",
    "        print(row[1],row[5])"
   ]
  },
  {
   "cell_type": "code",
   "execution_count": 39,
   "metadata": {},
   "outputs": [
    {
     "name": "stdout",
     "output_type": "stream",
     "text": [
      "Bible 985920\n",
      "Dictionary.com Dictionary & Thesaurus 200047\n",
      "Dictionary.com Dictionary & Thesaurus for iPad 54175\n",
      "Google Translate 26786\n",
      "Muslim Pro: Ramadan 2017 Prayer Times, Azan, Quran 18418\n",
      "New Furniture Mods - Pocket Wiki & Game Tools for Minecraft PC Edition 17588\n",
      "Merriam-Webster Dictionary 16849\n",
      "Night Sky 12122\n",
      "City Maps for Minecraft PE - The Best Maps for Minecraft Pocket Edition (MCPE) 8535\n",
      "LUCKY BLOCK MOD ™ for Minecraft PC Edition - The Best Pocket Wiki & Mods Installer Tools 4693\n",
      "GUNS MODS for Minecraft PC Edition - Mods Tools 1497\n"
     ]
    }
   ],
   "source": [
    "for row in ios_data:\n",
    "    if (row[11] == 'Reference') & (int(row[5]) > 1000):\n",
    "        print(row[1],row[5])"
   ]
  },
  {
   "cell_type": "code",
   "execution_count": 40,
   "metadata": {},
   "outputs": [
    {
     "name": "stdout",
     "output_type": "stream",
     "text": [
      "Facebook 2974676\n",
      "Pinterest 1061624\n",
      "Skype for iPhone 373519\n",
      "Messenger 351466\n",
      "Tumblr 334293\n",
      "WhatsApp Messenger 287589\n",
      "Kik 260965\n",
      "ooVoo – Free Video Call, Text and Voice 177501\n",
      "TextNow - Unlimited Text + Calls 164963\n",
      "Viber Messenger – Text & Call 164249\n",
      "Followers - Social Analytics For Instagram 112778\n"
     ]
    }
   ],
   "source": [
    "for row in ios_data:\n",
    "    if (row[11] == 'Social Networking') & (int(row[5]) > 100000):\n",
    "        print(row[1],row[5])"
   ]
  },
  {
   "cell_type": "markdown",
   "metadata": {},
   "source": [
    "In the Apple store we see similar cases as with Google Play, Social Networking and Navigation genres are extremely popular, but only because they are dominated by giant companies. However, the Reference category is extremely popular and while there are some larger names in this category, the category doesnt seem to be dominated by the big names."
   ]
  },
  {
   "cell_type": "markdown",
   "metadata": {},
   "source": [
    "# My recommendation to the app developers is to develop an app in the reference category, religious reference apps and gaming reference apps in particular appear to be quite successful."
   ]
  },
  {
   "cell_type": "code",
   "execution_count": null,
   "metadata": {},
   "outputs": [],
   "source": []
  }
 ],
 "metadata": {
  "kernelspec": {
   "display_name": "Python 3 (ipykernel)",
   "language": "python",
   "name": "python3"
  },
  "language_info": {
   "codemirror_mode": {
    "name": "ipython",
    "version": 3
   },
   "file_extension": ".py",
   "mimetype": "text/x-python",
   "name": "python",
   "nbconvert_exporter": "python",
   "pygments_lexer": "ipython3",
   "version": "3.9.7"
  }
 },
 "nbformat": 4,
 "nbformat_minor": 2
}
